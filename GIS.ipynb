{
  "nbformat": 4,
  "nbformat_minor": 0,
  "metadata": {
    "colab": {
      "provenance": [],
      "authorship_tag": "ABX9TyOtUtBbIhjarHamp0bhLBKx",
      "include_colab_link": true
    },
    "kernelspec": {
      "name": "python3",
      "display_name": "Python 3"
    },
    "language_info": {
      "name": "python"
    }
  },
  "cells": [
    {
      "cell_type": "markdown",
      "metadata": {
        "id": "view-in-github",
        "colab_type": "text"
      },
      "source": [
        "<a href=\"https://colab.research.google.com/github/504aldo/gis/blob/main/GIS.ipynb\" target=\"_parent\"><img src=\"https://colab.research.google.com/assets/colab-badge.svg\" alt=\"Open In Colab\"/></a>"
      ]
    },
    {
      "cell_type": "markdown",
      "source": [
        "# **Mapas Interactivos**\n",
        "---\n",
        "\n",
        "\n",
        "---\n",
        "\n",
        "En esta sección ejecuto codigo y muestro su resultado\n",
        "\n",
        "\n",
        "\n",
        "```\n",
        "# print(2+2)\n",
        "```\n",
        "\n",
        "\n",
        "\n",
        "\n"
      ],
      "metadata": {
        "id": "KISeLIhkextN"
      }
    },
    {
      "cell_type": "code",
      "source": [
        "print(2+2)"
      ],
      "metadata": {
        "colab": {
          "base_uri": "https://localhost:8080/"
        },
        "id": "aGIuQfKnhQUT",
        "outputId": "14232e4d-8037-445f-b7c2-81f89cece5f7"
      },
      "execution_count": null,
      "outputs": [
        {
          "output_type": "stream",
          "name": "stdout",
          "text": [
            "4\n"
          ]
        }
      ]
    },
    {
      "cell_type": "markdown",
      "source": [
        "# 1. Sub Titulo\n",
        "---\n",
        "Aquí solo muestro el código SIN resultado\n"
      ],
      "metadata": {
        "id": "HFghmpoFgUUp"
      }
    },
    {
      "cell_type": "code",
      "source": [
        "print(3*5)"
      ],
      "metadata": {
        "id": "msCCSEGYqZoe"
      },
      "execution_count": null,
      "outputs": []
    },
    {
      "cell_type": "markdown",
      "source": [
        "aquí solo inserté un bloque de texto."
      ],
      "metadata": {
        "id": "BRmRf09otTx_"
      }
    },
    {
      "cell_type": "markdown",
      "source": [
        "# 2. Mapa Interactivo"
      ],
      "metadata": {
        "id": "sA9pJ5vmQnxc"
      }
    },
    {
      "cell_type": "markdown",
      "source": [
        "Este es un bloque de texto.\n",
        "El siguiente es un bloque de código donde muestro código y resultados para el mapa interactivo"
      ],
      "metadata": {
        "id": "BYAL6w1nQ75N"
      }
    },
    {
      "cell_type": "code",
      "source": [
        "# Necesarias\n",
        "from google.colab import files\n",
        "\n",
        "# Trabajar con geometrias (shapefiles) y mapas\n",
        "import geopandas as gpd\n",
        "import matplotlib.pyplot as plt\n",
        "\n",
        "# Interactividad\n",
        "import folium\n",
        "import webbrowser # abrir mapa guardado en html\n",
        "\n",
        "# Corregir puntos de lat y lon atipicos\n",
        "from shapely.geometry import box\n",
        "\n",
        "\n"
      ],
      "metadata": {
        "id": "v5L-sDudQ5li"
      },
      "execution_count": 16,
      "outputs": []
    },
    {
      "cell_type": "markdown",
      "source": [
        "leer"
      ],
      "metadata": {
        "id": "4MEgpWO-TzZ9"
      }
    },
    {
      "cell_type": "code",
      "source": [
        "# Cargar archivos shapefile (País)\n",
        "pais_shp = \"/content/data/hnd_admbnda_adm0_sinit_20161005.shp\"\n",
        "pais_gdf = gpd.read_file(pais_shp)\n",
        "\n",
        "# Cargar archivos shapefile (Departamentos)\n",
        "departamentos_shp = \"/content/data/hnd_admbnda_adm1_sinit_20161005.shp\"\n",
        "departamentos_gdf = gpd.read_file(departamentos_shp)\n",
        "\n",
        "# Cargar archivos shapefile (Municipios)\n",
        "municipios_shp = \"/content/data/hnd_admbnda_adm2_sinit_20161005.shp\"\n",
        "municipios_gdf = gpd.read_file(municipios_shp)\n",
        "\n",
        "# Cargar archivos shapefile (Aldeas=3730)\n",
        "aldeas_shp = \"/content/data/hnd_admbnda_adm3_sinit_20161005.shp\"\n",
        "aldeas_gdf = gpd.read_file(aldeas_shp)\n",
        "\n",
        "# Cargar archivos shapefile (Caseríos=27969, censo2001=30810, censo2013=30012)\n",
        "caserios_shp = \"/content/data/hnd_pplp_sinit_20160125.shp\"\n",
        "caserios_gdf = gpd.read_file(caserios_shp)\n"
      ],
      "metadata": {
        "colab": {
          "base_uri": "https://localhost:8080/",
          "height": 705
        },
        "id": "yTObqMT-T1kY",
        "outputId": "61051614-484d-4c3e-9465-908d0b4a043c"
      },
      "execution_count": 17,
      "outputs": [
        {
          "output_type": "stream",
          "name": "stderr",
          "text": [
            "ERROR:fiona._env:Unable to open /content/data/hnd_admbnda_adm0_sinit_20161005.shx or /content/data/hnd_admbnda_adm0_sinit_20161005.SHX. Set SHAPE_RESTORE_SHX config option to YES to restore or create it.\n"
          ]
        },
        {
          "output_type": "error",
          "ename": "DriverError",
          "evalue": "ignored",
          "traceback": [
            "\u001b[0;31m---------------------------------------------------------------------------\u001b[0m",
            "\u001b[0;31mCPLE_OpenFailedError\u001b[0m                      Traceback (most recent call last)",
            "\u001b[0;32mfiona/ogrext.pyx\u001b[0m in \u001b[0;36mfiona.ogrext.gdal_open_vector\u001b[0;34m()\u001b[0m\n",
            "\u001b[0;32mfiona/_err.pyx\u001b[0m in \u001b[0;36mfiona._err.exc_wrap_pointer\u001b[0;34m()\u001b[0m\n",
            "\u001b[0;31mCPLE_OpenFailedError\u001b[0m: Unable to open /content/data/hnd_admbnda_adm0_sinit_20161005.shx or /content/data/hnd_admbnda_adm0_sinit_20161005.SHX. Set SHAPE_RESTORE_SHX config option to YES to restore or create it.",
            "\nDuring handling of the above exception, another exception occurred:\n",
            "\u001b[0;31mDriverError\u001b[0m                               Traceback (most recent call last)",
            "\u001b[0;32m<ipython-input-17-0123bf46734d>\u001b[0m in \u001b[0;36m<cell line: 3>\u001b[0;34m()\u001b[0m\n\u001b[1;32m      1\u001b[0m \u001b[0;31m# Cargar archivos shapefile (País)\u001b[0m\u001b[0;34m\u001b[0m\u001b[0;34m\u001b[0m\u001b[0m\n\u001b[1;32m      2\u001b[0m \u001b[0mpais_shp\u001b[0m \u001b[0;34m=\u001b[0m \u001b[0;34m\"/content/data/hnd_admbnda_adm0_sinit_20161005.shp\"\u001b[0m\u001b[0;34m\u001b[0m\u001b[0;34m\u001b[0m\u001b[0m\n\u001b[0;32m----> 3\u001b[0;31m \u001b[0mpais_gdf\u001b[0m \u001b[0;34m=\u001b[0m \u001b[0mgpd\u001b[0m\u001b[0;34m.\u001b[0m\u001b[0mread_file\u001b[0m\u001b[0;34m(\u001b[0m\u001b[0mpais_shp\u001b[0m\u001b[0;34m)\u001b[0m\u001b[0;34m\u001b[0m\u001b[0;34m\u001b[0m\u001b[0m\n\u001b[0m\u001b[1;32m      4\u001b[0m \u001b[0;34m\u001b[0m\u001b[0m\n\u001b[1;32m      5\u001b[0m \u001b[0;31m# Cargar archivos shapefile (Departamentos)\u001b[0m\u001b[0;34m\u001b[0m\u001b[0;34m\u001b[0m\u001b[0m\n",
            "\u001b[0;32m/usr/local/lib/python3.10/dist-packages/geopandas/io/file.py\u001b[0m in \u001b[0;36m_read_file\u001b[0;34m(filename, bbox, mask, rows, engine, **kwargs)\u001b[0m\n\u001b[1;32m    279\u001b[0m             \u001b[0mpath_or_bytes\u001b[0m \u001b[0;34m=\u001b[0m \u001b[0mfilename\u001b[0m\u001b[0;34m\u001b[0m\u001b[0;34m\u001b[0m\u001b[0m\n\u001b[1;32m    280\u001b[0m \u001b[0;34m\u001b[0m\u001b[0m\n\u001b[0;32m--> 281\u001b[0;31m         return _read_file_fiona(\n\u001b[0m\u001b[1;32m    282\u001b[0m             \u001b[0mpath_or_bytes\u001b[0m\u001b[0;34m,\u001b[0m \u001b[0mfrom_bytes\u001b[0m\u001b[0;34m,\u001b[0m \u001b[0mbbox\u001b[0m\u001b[0;34m=\u001b[0m\u001b[0mbbox\u001b[0m\u001b[0;34m,\u001b[0m \u001b[0mmask\u001b[0m\u001b[0;34m=\u001b[0m\u001b[0mmask\u001b[0m\u001b[0;34m,\u001b[0m \u001b[0mrows\u001b[0m\u001b[0;34m=\u001b[0m\u001b[0mrows\u001b[0m\u001b[0;34m,\u001b[0m \u001b[0;34m**\u001b[0m\u001b[0mkwargs\u001b[0m\u001b[0;34m\u001b[0m\u001b[0;34m\u001b[0m\u001b[0m\n\u001b[1;32m    283\u001b[0m         )\n",
            "\u001b[0;32m/usr/local/lib/python3.10/dist-packages/geopandas/io/file.py\u001b[0m in \u001b[0;36m_read_file_fiona\u001b[0;34m(path_or_bytes, from_bytes, bbox, mask, rows, where, **kwargs)\u001b[0m\n\u001b[1;32m    320\u001b[0m \u001b[0;34m\u001b[0m\u001b[0m\n\u001b[1;32m    321\u001b[0m     \u001b[0;32mwith\u001b[0m \u001b[0mfiona_env\u001b[0m\u001b[0;34m(\u001b[0m\u001b[0;34m)\u001b[0m\u001b[0;34m:\u001b[0m\u001b[0;34m\u001b[0m\u001b[0;34m\u001b[0m\u001b[0m\n\u001b[0;32m--> 322\u001b[0;31m         \u001b[0;32mwith\u001b[0m \u001b[0mreader\u001b[0m\u001b[0;34m(\u001b[0m\u001b[0mpath_or_bytes\u001b[0m\u001b[0;34m,\u001b[0m \u001b[0;34m**\u001b[0m\u001b[0mkwargs\u001b[0m\u001b[0;34m)\u001b[0m \u001b[0;32mas\u001b[0m \u001b[0mfeatures\u001b[0m\u001b[0;34m:\u001b[0m\u001b[0;34m\u001b[0m\u001b[0;34m\u001b[0m\u001b[0m\n\u001b[0m\u001b[1;32m    323\u001b[0m             \u001b[0mcrs\u001b[0m \u001b[0;34m=\u001b[0m \u001b[0mfeatures\u001b[0m\u001b[0;34m.\u001b[0m\u001b[0mcrs_wkt\u001b[0m\u001b[0;34m\u001b[0m\u001b[0;34m\u001b[0m\u001b[0m\n\u001b[1;32m    324\u001b[0m             \u001b[0;31m# attempt to get EPSG code\u001b[0m\u001b[0;34m\u001b[0m\u001b[0;34m\u001b[0m\u001b[0m\n",
            "\u001b[0;32m/usr/local/lib/python3.10/dist-packages/fiona/env.py\u001b[0m in \u001b[0;36mwrapper\u001b[0;34m(*args, **kwds)\u001b[0m\n\u001b[1;32m    455\u001b[0m \u001b[0;34m\u001b[0m\u001b[0m\n\u001b[1;32m    456\u001b[0m         \u001b[0;32mwith\u001b[0m \u001b[0menv_ctor\u001b[0m\u001b[0;34m(\u001b[0m\u001b[0msession\u001b[0m\u001b[0;34m=\u001b[0m\u001b[0msession\u001b[0m\u001b[0;34m)\u001b[0m\u001b[0;34m:\u001b[0m\u001b[0;34m\u001b[0m\u001b[0;34m\u001b[0m\u001b[0m\n\u001b[0;32m--> 457\u001b[0;31m             \u001b[0;32mreturn\u001b[0m \u001b[0mf\u001b[0m\u001b[0;34m(\u001b[0m\u001b[0;34m*\u001b[0m\u001b[0margs\u001b[0m\u001b[0;34m,\u001b[0m \u001b[0;34m**\u001b[0m\u001b[0mkwds\u001b[0m\u001b[0;34m)\u001b[0m\u001b[0;34m\u001b[0m\u001b[0;34m\u001b[0m\u001b[0m\n\u001b[0m\u001b[1;32m    458\u001b[0m \u001b[0;34m\u001b[0m\u001b[0m\n\u001b[1;32m    459\u001b[0m     \u001b[0;32mreturn\u001b[0m \u001b[0mwrapper\u001b[0m\u001b[0;34m\u001b[0m\u001b[0;34m\u001b[0m\u001b[0m\n",
            "\u001b[0;32m/usr/local/lib/python3.10/dist-packages/fiona/__init__.py\u001b[0m in \u001b[0;36mopen\u001b[0;34m(fp, mode, driver, schema, crs, encoding, layer, vfs, enabled_drivers, crs_wkt, allow_unsupported_drivers, **kwargs)\u001b[0m\n\u001b[1;32m    290\u001b[0m \u001b[0;34m\u001b[0m\u001b[0m\n\u001b[1;32m    291\u001b[0m         \u001b[0;32mif\u001b[0m \u001b[0mmode\u001b[0m \u001b[0;32min\u001b[0m \u001b[0;34m(\u001b[0m\u001b[0;34m\"a\"\u001b[0m\u001b[0;34m,\u001b[0m \u001b[0;34m\"r\"\u001b[0m\u001b[0;34m)\u001b[0m\u001b[0;34m:\u001b[0m\u001b[0;34m\u001b[0m\u001b[0;34m\u001b[0m\u001b[0m\n\u001b[0;32m--> 292\u001b[0;31m             colxn = Collection(\n\u001b[0m\u001b[1;32m    293\u001b[0m                 \u001b[0mpath\u001b[0m\u001b[0;34m,\u001b[0m\u001b[0;34m\u001b[0m\u001b[0;34m\u001b[0m\u001b[0m\n\u001b[1;32m    294\u001b[0m                 \u001b[0mmode\u001b[0m\u001b[0;34m,\u001b[0m\u001b[0;34m\u001b[0m\u001b[0;34m\u001b[0m\u001b[0m\n",
            "\u001b[0;32m/usr/local/lib/python3.10/dist-packages/fiona/collection.py\u001b[0m in \u001b[0;36m__init__\u001b[0;34m(self, path, mode, driver, schema, crs, encoding, layer, vsi, archive, enabled_drivers, crs_wkt, ignore_fields, ignore_geometry, include_fields, wkt_version, allow_unsupported_drivers, **kwargs)\u001b[0m\n\u001b[1;32m    241\u001b[0m             \u001b[0;32mif\u001b[0m \u001b[0mself\u001b[0m\u001b[0;34m.\u001b[0m\u001b[0mmode\u001b[0m \u001b[0;34m==\u001b[0m \u001b[0;34m\"r\"\u001b[0m\u001b[0;34m:\u001b[0m\u001b[0;34m\u001b[0m\u001b[0;34m\u001b[0m\u001b[0m\n\u001b[1;32m    242\u001b[0m                 \u001b[0mself\u001b[0m\u001b[0;34m.\u001b[0m\u001b[0msession\u001b[0m \u001b[0;34m=\u001b[0m \u001b[0mSession\u001b[0m\u001b[0;34m(\u001b[0m\u001b[0;34m)\u001b[0m\u001b[0;34m\u001b[0m\u001b[0;34m\u001b[0m\u001b[0m\n\u001b[0;32m--> 243\u001b[0;31m                 \u001b[0mself\u001b[0m\u001b[0;34m.\u001b[0m\u001b[0msession\u001b[0m\u001b[0;34m.\u001b[0m\u001b[0mstart\u001b[0m\u001b[0;34m(\u001b[0m\u001b[0mself\u001b[0m\u001b[0;34m,\u001b[0m \u001b[0;34m**\u001b[0m\u001b[0mkwargs\u001b[0m\u001b[0;34m)\u001b[0m\u001b[0;34m\u001b[0m\u001b[0;34m\u001b[0m\u001b[0m\n\u001b[0m\u001b[1;32m    244\u001b[0m             \u001b[0;32melif\u001b[0m \u001b[0mself\u001b[0m\u001b[0;34m.\u001b[0m\u001b[0mmode\u001b[0m \u001b[0;32min\u001b[0m \u001b[0;34m(\u001b[0m\u001b[0;34m\"a\"\u001b[0m\u001b[0;34m,\u001b[0m \u001b[0;34m\"w\"\u001b[0m\u001b[0;34m)\u001b[0m\u001b[0;34m:\u001b[0m\u001b[0;34m\u001b[0m\u001b[0;34m\u001b[0m\u001b[0m\n\u001b[1;32m    245\u001b[0m                 \u001b[0mself\u001b[0m\u001b[0;34m.\u001b[0m\u001b[0msession\u001b[0m \u001b[0;34m=\u001b[0m \u001b[0mWritingSession\u001b[0m\u001b[0;34m(\u001b[0m\u001b[0;34m)\u001b[0m\u001b[0;34m\u001b[0m\u001b[0;34m\u001b[0m\u001b[0m\n",
            "\u001b[0;32mfiona/ogrext.pyx\u001b[0m in \u001b[0;36mfiona.ogrext.Session.start\u001b[0;34m()\u001b[0m\n",
            "\u001b[0;32mfiona/ogrext.pyx\u001b[0m in \u001b[0;36mfiona.ogrext.gdal_open_vector\u001b[0;34m()\u001b[0m\n",
            "\u001b[0;31mDriverError\u001b[0m: Unable to open /content/data/hnd_admbnda_adm0_sinit_20161005.shx or /content/data/hnd_admbnda_adm0_sinit_20161005.SHX. Set SHAPE_RESTORE_SHX config option to YES to restore or create it."
          ]
        }
      ]
    },
    {
      "cell_type": "markdown",
      "source": [
        "limpieza"
      ],
      "metadata": {
        "id": "_huxbl_7WjeC"
      }
    },
    {
      "cell_type": "code",
      "source": [
        "# Columnas a borrar\n",
        "to_del = [\"shape_leng\", \"shape_area\", \"adm0_ref\", \"adm1_ref\", \"adm2_ref\", \"date\", \"validon\", \"validto\"]\n",
        "\n",
        "# Diccionario de nombres de columnas y nuevos nombres\n",
        "cols_rename = {\n",
        "    \"adm0_pcode\": \"admin0pcod\",\n",
        "    \"adm0_es\": \"admin0name\",\n",
        "    \"adm1_pcode\": \"admin1pcod\",\n",
        "    \"adm1_es\": \"admin1name\",\n",
        "    \"adm2_pcode\": \"admin2pcod\",\n",
        "    \"adm2_es\": \"admin2name\",\n",
        "    \"pcode\": \"pcod\",\n",
        "    }\n",
        "\n",
        "# Limpiar columnas\n",
        "for df in [pais_gdf, departamentos_gdf, municipios_gdf, aldeas_gdf, caserios_gdf]:\n",
        "    df.columns = df.columns.str.lower()  # Convierte nombres a minúsculas\n",
        "    cols_to_drop = [col for col in to_del if col in df.columns]  # Encuentra las columnas a eliminar que existen\n",
        "    cols_to_drop.extend(df.select_dtypes(include=['float64']).columns.tolist())  # agregar a cols_to_drop columnas de tipo float64\n",
        "    df.drop(columns=cols_to_drop, inplace=True)  # Elimina las columnas encontradas en 'cols_to_drop'\n",
        "    df.rename(columns=cols_rename, inplace=True) # Renombra las columnas de acuerdo a diccionario\n",
        "\n",
        "# Crear una máscara booleana, con bounding box de Honduras, y aplicar\n",
        "mask = caserios_gdf.geometry.within(box(*pais_gdf.total_bounds)) # * para desempaquetar los valores\n",
        "caserios_gdf.loc[~mask, ['geometry']] = None                     # Asignar NaN\n"
      ],
      "metadata": {
        "id": "DPzW2bzkWrOX"
      },
      "execution_count": null,
      "outputs": []
    },
    {
      "cell_type": "markdown",
      "source": [
        "verificar"
      ],
      "metadata": {
        "id": "6U7wKJ5wW4re"
      }
    },
    {
      "cell_type": "code",
      "source": [
        "# Corregido caserios_gdf (valores de lat y lon)\n",
        "print(caserios_gdf[caserios_gdf[\"admin2name\"] == \"Guanaja\"])\n"
      ],
      "metadata": {
        "id": "q0AxZqbmW4CF"
      },
      "execution_count": null,
      "outputs": []
    },
    {
      "cell_type": "markdown",
      "source": [
        "mapa"
      ],
      "metadata": {
        "id": "gFXPReLvXDmp"
      }
    }
  ]
}