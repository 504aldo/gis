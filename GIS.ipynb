{
  "nbformat": 4,
  "nbformat_minor": 0,
  "metadata": {
    "colab": {
      "provenance": [],
      "authorship_tag": "ABX9TyNlIYe8eOKWykA4k+qlA3tE",
      "include_colab_link": true
    },
    "kernelspec": {
      "name": "python3",
      "display_name": "Python 3"
    },
    "language_info": {
      "name": "python"
    }
  },
  "cells": [
    {
      "cell_type": "markdown",
      "metadata": {
        "id": "view-in-github",
        "colab_type": "text"
      },
      "source": [
        "<a href=\"https://colab.research.google.com/github/504aldo/gis/blob/main/GIS.ipynb\" target=\"_parent\"><img src=\"https://colab.research.google.com/assets/colab-badge.svg\" alt=\"Open In Colab\"/></a>"
      ]
    },
    {
      "cell_type": "markdown",
      "source": [
        "# **Mapas Interactivos**\n",
        "---\n",
        "\n",
        "\n",
        "---\n",
        "\n",
        "Esta sección es texto, solo formateo como código.\n",
        "\n",
        "\n",
        "\n",
        "```\n",
        "# print(2+2)\n",
        "```\n",
        "\n",
        "\n",
        "\n",
        "\n"
      ],
      "metadata": {
        "id": "KISeLIhkextN"
      }
    },
    {
      "cell_type": "markdown",
      "source": [
        "Esta sección es código SIN ejecución\n"
      ],
      "metadata": {
        "id": "HFghmpoFgUUp"
      }
    },
    {
      "cell_type": "code",
      "source": [
        "print(3*5)"
      ],
      "metadata": {
        "id": "msCCSEGYqZoe"
      },
      "execution_count": null,
      "outputs": []
    },
    {
      "cell_type": "markdown",
      "source": [
        "Esta sección es código que se ejecuta"
      ],
      "metadata": {
        "id": "BDCkEicGkn9R"
      }
    },
    {
      "cell_type": "code",
      "source": [
        "print(2+2)"
      ],
      "metadata": {
        "colab": {
          "base_uri": "https://localhost:8080/"
        },
        "id": "aGIuQfKnhQUT",
        "outputId": "14232e4d-8037-445f-b7c2-81f89cece5f7"
      },
      "execution_count": null,
      "outputs": [
        {
          "output_type": "stream",
          "name": "stdout",
          "text": [
            "4\n"
          ]
        }
      ]
    },
    {
      "cell_type": "markdown",
      "source": [
        "# 2. Mapa Interactivo"
      ],
      "metadata": {
        "id": "sA9pJ5vmQnxc"
      }
    },
    {
      "cell_type": "markdown",
      "source": [
        "Este es un bloque de texto.\n",
        "El siguiente es un bloque de código donde muestro código y resultados para el mapa interactivo"
      ],
      "metadata": {
        "id": "BYAL6w1nQ75N"
      }
    },
    {
      "cell_type": "code",
      "source": [
        "# Trabajar con geometrias (shapefiles) y mapas\n",
        "import geopandas as gpd\n",
        "import matplotlib.pyplot as plt\n",
        "\n",
        "# Interactividad\n",
        "import folium\n",
        "import webbrowser # abrir mapa guardado en html\n",
        "import os\n",
        "\n",
        "# Corregir puntos de lat y lon atipicos\n",
        "from shapely.geometry import box\n"
      ],
      "metadata": {
        "id": "v5L-sDudQ5li"
      },
      "execution_count": null,
      "outputs": []
    },
    {
      "cell_type": "markdown",
      "source": [
        "leer"
      ],
      "metadata": {
        "id": "4MEgpWO-TzZ9"
      }
    },
    {
      "cell_type": "code",
      "source": [
        "# Cargar archivos shapefile (País)\n",
        "pais_shp = \"data-bid1/hnd_admbnda_adm0_sinit_20161005.shp\"\n",
        "pais_gdf = gpd.read_file(pais_shp)\n",
        "\n",
        "# Cargar archivos shapefile (Departamentos)\n",
        "departamentos_shp = \"data-bid1/hnd_admbnda_adm1_sinit_20161005.shp\"\n",
        "departamentos_gdf = gpd.read_file(departamentos_shp)\n",
        "\n",
        "# Cargar archivos shapefile (Municipios)\n",
        "municipios_shp = \"data-bid1/hnd_admbnda_adm2_sinit_20161005.shp\"\n",
        "municipios_gdf = gpd.read_file(municipios_shp)\n",
        "\n",
        "# Cargar archivos shapefile (Aldeas=3730)\n",
        "aldeas_shp = \"data-bid1/hnd_admbnda_adm3_sinit_20161005.shp\"\n",
        "aldeas_gdf = gpd.read_file(aldeas_shp)\n",
        "\n",
        "# Cargar archivos shapefile (Caseríos=27969, censo2001=30810, censo2013=30012)\n",
        "caserios_shp = \"data-bid1/hnd_pplp_sinit_20160125.shp\"\n",
        "caserios_gdf = gpd.read_file(caserios_shp)\n"
      ],
      "metadata": {
        "id": "yTObqMT-T1kY"
      },
      "execution_count": null,
      "outputs": []
    },
    {
      "cell_type": "markdown",
      "source": [
        "limpieza"
      ],
      "metadata": {
        "id": "_huxbl_7WjeC"
      }
    },
    {
      "cell_type": "code",
      "source": [
        "# Columnas a borrar\n",
        "to_del = [\"shape_leng\", \"shape_area\", \"adm0_ref\", \"adm1_ref\", \"adm2_ref\", \"date\", \"validon\", \"validto\"]\n",
        "\n",
        "# Diccionario de nombres de columnas y nuevos nombres\n",
        "cols_rename = {\n",
        "    \"adm0_pcode\": \"admin0pcod\",\n",
        "    \"adm0_es\": \"admin0name\",\n",
        "    \"adm1_pcode\": \"admin1pcod\",\n",
        "    \"adm1_es\": \"admin1name\",\n",
        "    \"adm2_pcode\": \"admin2pcod\",\n",
        "    \"adm2_es\": \"admin2name\",\n",
        "    \"pcode\": \"pcod\",\n",
        "    }\n",
        "\n",
        "# Limpiar columnas\n",
        "for df in [pais_gdf, departamentos_gdf, municipios_gdf, aldeas_gdf, caserios_gdf]:\n",
        "    df.columns = df.columns.str.lower()  # Convierte nombres a minúsculas\n",
        "    cols_to_drop = [col for col in to_del if col in df.columns]  # Encuentra las columnas a eliminar que existen\n",
        "    cols_to_drop.extend(df.select_dtypes(include=['float64']).columns.tolist())  # agregar a cols_to_drop columnas de tipo float64\n",
        "    df.drop(columns=cols_to_drop, inplace=True)  # Elimina las columnas encontradas en 'cols_to_drop'\n",
        "    df.rename(columns=cols_rename, inplace=True) # Renombra las columnas de acuerdo a diccionario\n",
        "\n",
        "# Crear una máscara booleana, con bounding box de Honduras, y aplicar\n",
        "mask = caserios_gdf.geometry.within(box(*pais_gdf.total_bounds)) # * para desempaquetar los valores\n",
        "caserios_gdf.loc[~mask, ['geometry']] = None                     # Asignar NaN\n"
      ],
      "metadata": {
        "id": "DPzW2bzkWrOX"
      },
      "execution_count": null,
      "outputs": []
    },
    {
      "cell_type": "markdown",
      "source": [
        "verificar"
      ],
      "metadata": {
        "id": "6U7wKJ5wW4re"
      }
    },
    {
      "cell_type": "code",
      "source": [
        "# Corregido caserios_gdf (valores de lat y lon)\n",
        "print(caserios_gdf[caserios_gdf[\"admin2name\"] == \"Guanaja\"])\n"
      ],
      "metadata": {
        "id": "q0AxZqbmW4CF"
      },
      "execution_count": null,
      "outputs": []
    },
    {
      "cell_type": "markdown",
      "source": [
        "mapa"
      ],
      "metadata": {
        "id": "gFXPReLvXDmp"
      }
    },
    {
      "cell_type": "code",
      "source": [
        "# Crear un mapa centrado en Atlántida\n",
        "mapa = folium.Map(location=[15.7835, -86.7825], zoom_start=10)\n",
        "\n",
        "# Filtrar los datos de los municipios y caseríos de Atlántida\n",
        "municipios_atlantida = municipios_gdf[municipios_gdf['admin1pcod'] == 'HN01']\n",
        "caserios_atlantida = caserios_gdf[caserios_gdf['admin1pcod'] == 'HN01']\n",
        "\n",
        "# Añadir los municipios al mapa\n",
        "for _, municipio in municipios_atlantida.iterrows():\n",
        "    folium.GeoJson(municipio['geometry']).add_to(mapa)\n",
        "\n",
        "# Añadir los caseríos al mapa\n",
        "for _, caserio in caserios_atlantida.iterrows():\n",
        "    if not caserio['geometry'] is None:\n",
        "        folium.Marker(location=[caserio['geometry'].y, caserio['geometry'].x], popup=caserio['featurenam']).add_to(mapa)\n",
        "\n",
        "# Mostrar el mapa\n",
        "mapa\n"
      ],
      "metadata": {
        "id": "FiK8sBFGiaEW"
      },
      "execution_count": null,
      "outputs": []
    }
  ]
}