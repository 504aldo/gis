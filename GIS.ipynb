{
  "nbformat": 4,
  "nbformat_minor": 0,
  "metadata": {
    "colab": {
      "provenance": [],
      "toc_visible": true,
      "authorship_tag": "ABX9TyPgSL0wB2jBAQ6DCi3khIRe",
      "include_colab_link": true
    },
    "kernelspec": {
      "name": "python3",
      "display_name": "Python 3"
    },
    "language_info": {
      "name": "python"
    }
  },
  "cells": [
    {
      "cell_type": "markdown",
      "metadata": {
        "id": "view-in-github",
        "colab_type": "text"
      },
      "source": [
        "<a href=\"https://colab.research.google.com/github/504aldo/gis/blob/main/GIS.ipynb\" target=\"_parent\"><img src=\"https://colab.research.google.com/assets/colab-badge.svg\" alt=\"Open In Colab\"/></a>"
      ]
    },
    {
      "cell_type": "markdown",
      "source": [
        "# **Mapas Interactivos**\n",
        "---\n",
        "\n",
        "\n",
        "---\n",
        "\n",
        "En esta sección explico blah blah blah\n",
        "\n",
        "\n",
        "\n",
        "```\n",
        "# print(2+2)\n",
        "```\n",
        "\n",
        "\n",
        "\n",
        "\n"
      ],
      "metadata": {
        "id": "KISeLIhkextN"
      }
    },
    {
      "cell_type": "code",
      "source": [
        "print(2+2)"
      ],
      "metadata": {
        "colab": {
          "base_uri": "https://localhost:8080/"
        },
        "id": "aGIuQfKnhQUT",
        "outputId": "14232e4d-8037-445f-b7c2-81f89cece5f7"
      },
      "execution_count": null,
      "outputs": [
        {
          "output_type": "stream",
          "name": "stdout",
          "text": [
            "4\n"
          ]
        }
      ]
    },
    {
      "cell_type": "markdown",
      "source": [
        "# Sub Titulo\n",
        "\n",
        "---\n",
        "Aquí entro con el sub titulo blah blah blah\n"
      ],
      "metadata": {
        "id": "HFghmpoFgUUp"
      }
    }
  ]
}